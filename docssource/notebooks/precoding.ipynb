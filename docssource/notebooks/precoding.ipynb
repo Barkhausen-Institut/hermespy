{
    "cells": [
        {
            "cell_type": "code",
            "execution_count": 1,
            "id": "4bcd49a4",
            "metadata": {
                "nbsphinx": "hidden"
            },
            "outputs": [],
            "source": [
                "# Install HermesPy and its dependencies in the current kernel\n",
                "# When running on Colabs, a restart of the runtime is required afterwards\n",
                "\n",
                "import sys\n",
                "!{sys.executable} -m pip install --quiet hermespy"
            ]
        },
        {
            "attachments": {},
            "cell_type": "markdown",
            "metadata": {},
            "source": [
                "Implementing Precodings\n",
                "========================\n",
                "\n",
                "[Symbol Precoders](../api/modem.precoding.symbol_precoding.SymbolPrecoder.rst) are Hermes' abstraction for operations on time-domain series of complex numbers representing communication symbols.\n",
                "Within the signal processing chain for communication, modeled by the [Modem](../api/modem.rst) module, [Symbols](../api/modem.symbols.rst) are considered in between the mapping of bit streams to symbols and their modulation to base-band signals during transmission, and, inversely, in between the demodulation of base-band signals to symbols and their following unmapping to bit streams.\n",
                "\n",
                "At this stage, users may configure custom operations on the symbol series for any coherent modulation scheme.\n",
                "This tutorial will demonstrate the programming interface by implementing a symbol precoding which only reverses the modulated symbols in time-domain.\n",
                "We don't expect any performance gain or loss from this operation, the only purpose of this exercise is to get new users and developers accustomed to the specific interface.\n",
                "\n",
                "Let's jump right into it and implement the prosed precoding as a class titled *SymbolFlipper*, which inherits from the base [Symbol Precoders](../api/modem.precoding.symbol_precoding.SymbolPrecoder.rst), common to all symbol precoding routines."
            ]
        },
        {
            "cell_type": "code",
            "execution_count": 2,
            "metadata": {},
            "outputs": [],
            "source": [
                "import numpy as np\n",
                "\n",
                "from hermespy.modem import StatedSymbols, SymbolPrecoder\n",
                "\n",
                "\n",
                "class SymbolFlipper(SymbolPrecoder):\n",
                "    \n",
                "    def encode(self, symbols: StatedSymbols) -> StatedSymbols:\n",
                "        \n",
                "        encoded_symbols = symbols.copy()\n",
                "        encoded_symbols.raw = np.flip(encoded_symbols.raw, axis=1)\n",
                "        \n",
                "        return encoded_symbols\n",
                "        \n",
                "    def decode(self, symbols: StatedSymbols) -> StatedSymbols:\n",
                "        \n",
                "        decoded_symbols = symbols.copy()\n",
                "        decoded_symbols.raw = np.flip(decoded_symbols.raw, axis=1)\n",
                "        decoded_symbols.states = np.flip(decoded_symbols.states, axis=2)\n",
                "        \n",
                "        return decoded_symbols\n",
                "    \n",
                "    @property\n",
                "    def num_input_streams(self) -> int:\n",
                "        \n",
                "        return self.required_num_input_streams\n",
                "    \n",
                "    @property\n",
                "    def num_output_streams(self) -> int:\n",
                "        \n",
                "        return self.required_num_output_streams"
            ]
        },
        {
            "attachments": {},
            "cell_type": "markdown",
            "metadata": {},
            "source": [
                "[Symbol Precoders](../api/modem.precoding.symbol_precoding.SymbolPrecoder.rst) expect their two abstract methods [encode](../api/modem.precoding.symbol_precoding.SymbolPrecoder.rst#hermespy.modem.precoding.symbol_precoding.SymbolPrecoder.encode) and [decode](../api/modem.precoding.symbol_precoding.SymbolPrecoder.rst#hermespy.modem.precoding.symbol_precoding.SymbolPrecoder.decode) to be defined.\n",
                "As their names already hint, the encode routine will be called during data transmission and perform an operation on an incoming stream of [StatedSymbols](../api/modem.symbols.rst#hermespy.modem.symbols.StatedSymbols), the decoding routine will be called during data reception and is expected to reverse the effects of its encoding counterpart.\n",
                "Additionally, some precodings might alter the number of antenna streams during their coding operations, so two additional properties [num_input_streams](../api/precoding.precoding.rst#hermespy.precoding.precoding.Precoder.num_input_streams) and [num_output_streams](../api/precoding.precoding.rst#hermespy.precoding.precoding.Precoder.num_output_streams) must be specified.\n",
                "\n",
                "[StatedSymbols](../api/modem.symbols.rst#hermespy.modem.symbols.StatedSymbols) are an extension of [Symbols](../api/modem.symbols.rst#hermespy.modem.symbols.StatedSymbols) and carry [ChannelStateInformation](../api/core.channel_state_information.rst) as additional information next to the raw symbol stream.\n",
                "This is required since some symbol precodings might rely on a channel estimate for effective precoding.\n",
                "Both the raw symbol stream and channel state information are essentially numpy arrays of specific dimensions.\n",
                "The raw symbol array has three dimensions, representing antenna streams, words and symbols, respectively, while the channel state information has four dimensions, representing output antennas, input antennas, words and symbols, respectively."
            ]
        },
        {
            "cell_type": "code",
            "execution_count": 3,
            "metadata": {},
            "outputs": [
                {
                    "data": {
                        "image/png": "[encoded data removed]",
                        "text/plain": [
                            "<Figure size 432x288 with 1 Axes>"
                        ]
                    },
                    "metadata": {
                        "needs_background": "light"
                    },
                    "output_type": "display_data"
                }
            ],
            "source": [
                "from hermespy.core import ConsoleMode, dB\n",
                "from hermespy.simulation import Simulation\n",
                "from hermespy.modem import BitErrorEvaluator, DuplexModem, ElementType, FrameElement, FrameResource, FrameSymbolSection, OFDMWaveform\n",
                "\n",
                "# Create a new Monte Carlo simulation\n",
                "simulation = Simulation(console_mode=ConsoleMode.SILENT)\n",
                "\n",
                "# Add a single device, operated by a communication modem\n",
                "operator = DuplexModem()\n",
                "operator.device = simulation.new_device()\n",
                "\n",
                "# Configure an OFDM waveform with a frame consisting of a single symbol section\n",
                "operator.waveform = OFDMWaveform(resources=[FrameResource(elements=[FrameElement(ElementType.DATA, 1024)])],\n",
                "                                           structure=[FrameSymbolSection(pattern=[0])])\n",
                "\n",
                "# Configure our newly implemented symbol precoding\n",
                "operator.precoding[0] = SymbolFlipper()\n",
                "\n",
                "# Configure a parameter sweep over the receiver SNR, effectively simulating an AWGN channel\n",
                "simulation.new_dimension('snr', dB(0, 2, 4, 8, 12, 16, 20))\n",
                "\n",
                "# Evaluate the BER\n",
                "simulation.add_evaluator(BitErrorEvaluator(operator, operator))\n",
                "\n",
                "# Run the simulation and plot the results\n",
                "result = simulation.run()\n",
                "_ = result.plot()\n"
            ]
        },
        {
            "attachments": {},
            "cell_type": "markdown",
            "metadata": {},
            "source": [
                "To highlight that the implemented precoder has no effect on the communication performance, we can deactivate it and re-run the simulation:"
            ]
        },
        {
            "cell_type": "code",
            "execution_count": 4,
            "metadata": {},
            "outputs": [
                {
                    "data": {
                        "image/png": "[encoded data removed]",
                        "text/plain": [
                            "<Figure size 432x288 with 1 Axes>"
                        ]
                    },
                    "metadata": {
                        "needs_background": "light"
                    },
                    "output_type": "display_data"
                }
            ],
            "source": [
                "operator.precoding.pop_precoder(0)\n",
                "\n",
                "result = simulation.run()\n",
                "_ = result.plot()"
            ]
        }
    ],
    "metadata": {
        "kernelspec": {
            "display_name": "Python 3.9.13 ('hermes')",
            "language": "python",
            "name": "python3"
        },
        "language_info": {
            "codemirror_mode": {
                "name": "ipython",
                "version": 3
            },
            "file_extension": ".py",
            "mimetype": "text/x-python",
            "name": "python",
            "nbconvert_exporter": "python",
            "pygments_lexer": "ipython3",
            "version": "3.9.12"
        },
        "orig_nbformat": 4,
        "vscode": {
            "interpreter": {
                "hash": "15324ae639e283979e39f32b76ef84dde816ef5cb4e81fc04e688fd3d2128060"
            }
        }
    },
    "nbformat": 4,
    "nbformat_minor": 2
}
