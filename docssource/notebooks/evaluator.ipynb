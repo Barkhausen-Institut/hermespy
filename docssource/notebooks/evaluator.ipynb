{
    "cells": [
        {
            "cell_type": "code",
            "execution_count": 1,
            "id": "4bcd49a4",
            "metadata": {
                "nbsphinx": "hidden"
            },
            "outputs": [],
            "source": [
                "# Install HermesPy and its dependencies in the current kernel\n",
                "# When running on Colabs, a restart of the runtime is required afterwards\n",
                "\n",
                "import sys\n",
                "!{sys.executable} -m pip install --quiet hermespy"
            ]
        },
        {
            "attachments": {},
            "cell_type": "markdown",
            "metadata": {},
            "source": [
                "Implementing Evaluators\n",
                "=======================\n",
                "\n",
                "[Evaluators](../api/core.monte_carlo.rst#hermespy.core.monte_carlo.Evaluator) represent the process of estimating performance indicators within Hermes' API, both during simulation runtime and in custom use-cases.\n",
                "They are, arguably, one of the more complex concepts to grasp for library users not very accustomed to distributed computing.\n",
                "\n",
                "In order to demonstrate the programming workflow, we'll add an evaluator estimating the average signal power received at a wireless device.\n",
                "Such an tool could be useful to gain insight into the behaviour of beamformers in multipath environments, or simply as a debugging tool of channel models and waveforms.\n",
                "Let's get right into it:"
            ]
        },
        {
            "cell_type": "code",
            "execution_count": 2,
            "metadata": {},
            "outputs": [],
            "source": [
                "from __future__ import annotations\n",
                "from typing import List\n",
                "\n",
                "import matplotlib.pyplot as plt\n",
                "import numpy as np\n",
                "\n",
                "from hermespy.core import Artifact, Evaluation, EvaluationResult, Evaluator, Executable, GridDimension, Receiver, Signal\n",
                "    \n",
                "\n",
                "class PowerArtifact(Artifact):\n",
                "    \n",
                "    power: float\n",
                "    \n",
                "    def __init__(self, power: float) -> None:\n",
                "        \n",
                "        self.power = power\n",
                "        \n",
                "    def __str__(self) -> str:\n",
                "        \n",
                "        return f\"{self.power:.2f}\"\n",
                "    \n",
                "    def to_scalar(self) -> float:\n",
                "        \n",
                "        return self.power\n",
                "    \n",
                "\n",
                "class PowerEvaluation(Evaluation):\n",
                "    \n",
                "    power: np.ndarray\n",
                "    \n",
                "    def __init__(self, signal: Signal) -> None:\n",
                "        \n",
                "        self.power = signal.power\n",
                "        \n",
                "    def plot(self) -> None:\n",
                "        \n",
                "        with Executable.style_context():\n",
                "            \n",
                "            fig, axis = plt.subplots()\n",
                "            fig.suptitle('Received Signal Powers')\n",
                "            \n",
                "            axis.stem(np.arange(len(self.power)), self.power)\n",
                "            axis.set_xlabel('Antenna Index')\n",
                "            axis.set_ylabel('Power')\n",
                "            \n",
                "    def artifact(self) -> PowerArtifact:\n",
                "        \n",
                "        summed_power = np.sum(self.power, keepdims=False)\n",
                "        return PowerArtifact(summed_power)\n",
                "\n",
                "\n",
                "class PowerEvaluationResult(EvaluationResult):\n",
                "    \n",
                "    def __init__(\n",
                "        self,\n",
                "        grid: List[GridDimension],\n",
                "        evaluator: PowerEstimator,\n",
                "        artifacts: np.ndarray,\n",
                "    ) -> None:\n",
                "\n",
                "        self.mean_powers = np.empty(artifacts.shape, dtype=float)\n",
                "        for section_coords in np.ndindex(artifacts.shape):\n",
                "            self.mean_powers[section_coords] = np.mean([a.power for a in artifacts[section_coords]])\n",
                "\n",
                "        EvaluationResult.__init__(self, grid, evaluator)\n",
                "        \n",
                "    def _plot(self, axes: plt.Axes) -> None:\n",
                "\n",
                "        self._plot_multidim(self.mean_powers, 0, 'Average Power', 'linear', 'linear', axes)\n",
                "        \n",
                "    def to_array(self) -> np.ndarray:\n",
                "        \n",
                "        return self.mean_powers\n",
                "\n",
                "\n",
                "class PowerEstimator(Evaluator):\n",
                "    \n",
                "    def __init__(self, receiver: Receiver) -> None:\n",
                "        \n",
                "        self.__receiver = receiver\n",
                "        Evaluator.__init__(self)\n",
                "        \n",
                "    def evaluate(self) -> PowerEvaluation:\n",
                "        \n",
                "        if self.__receiver.reception is None:\n",
                "            raise RuntimeError(\"Receiver has not reception available to evaluate\")\n",
                "            \n",
                "        return PowerEvaluation(self.__receiver.reception.signal)\n",
                "    \n",
                "    @property\n",
                "    def abbreviation(self) -> str:\n",
                "        \n",
                "        return \"Power\"\n",
                "    \n",
                "    @property\n",
                "    def title(self) -> str:\n",
                "        \n",
                "        return \"Received Power\"\n",
                "    \n",
                "    def generate_result(self, grid: List[GridDimension], artifacts: np.ndarray) -> PowerEvaluationResult:\n",
                "        \n",
                "        return PowerEvaluationResult(grid, self, artifacts)"
            ]
        },
        {
            "attachments": {},
            "cell_type": "markdown",
            "metadata": {},
            "source": [
                "Here's what you're probably thinking right now: [Artifacts](../api/core.monte_carlo.rst#hermespy.core.monte_carlo.Artifact), [Evaluations](../api/core.monte_carlo.rst#hermespy.core.monte_carlo.Evaluation), [EvaluationResults](../api/core.monte_carlo.rst#hermespy.core.monte_carlo.EvaluationResult) and [Evaluators](../api/core.monte_carlo.rst#hermespy.core.monte_carlo.Evaluator), why do we need four interacting classes to investigate a single performance indicator?\n",
                "The answer is, this structure is required to enable efficient distributed execution of Monte Carlo simulations, while simulatenously offering an easily programmable interface for other use-cases such as software defined radio operation.\n",
                "\n",
                "The basis is the [Evaluator](../api/core.monte_carlo.rst#hermespy.core.monte_carlo.Evaluator), in our case the  *PowerEstimator*.\n",
                "Given a single scenario data drop, it generates an [Evaluation](../api/core.monte_carlo.rst#hermespy.core.monte_carlo.Evaluation) object representing the extracted performance indicator information.\n",
                "This information is then compressed to Artifacts [Artifacts](../api/core.monte_carlo.rst#hermespy.core.monte_carlo.Artifact) for each simulation grid sample and finally collected within the [generate_result](../api/core.monte_carlo.rst#hermespy.core.monte_carlo.Evaluator.generate_result) method of the [Evaluator](../api/core.monte_carlo.rst#hermespy.core.monte_carlo.Evaluator), creating an [EvaluationResult](../api/core.monte_carlo.rst#hermespy.core.monte_carlo.EvaluationResult).\n",
                "\n",
                "During distributed simulations, the process of generating [Artifacts](../api/core.monte_carlo.rst#hermespy.core.monte_carlo.Artifact) is executed multiple times in parallel, with only the resulting artifacts being sent to the simulation controller, in order to optimize the simulation data throughput between simulation controller and distributed simulation workers.\n",
                "Hermes is built around the [Ray](https://www.ray.io/), with optimizations like this Monte Carlo simulations become \"embarassingly parallel\" and, as a consequence, blazingly fast on multicore systems.\n",
                "\n",
                "We can now define the simulation scenario of a two-device $5 \\times 5$ MIMO simplex link transmitting an OFDM waveform over an ideal channel.\n",
                "Within a Monte Carlo simulation, we sweep the channel gain and observe the effect on the received signal power by our newly created Estimator:"
            ]
        },
        {
            "cell_type": "code",
            "execution_count": 3,
            "metadata": {},
            "outputs": [],
            "source": [
                "from hermespy.core import ConsoleMode, dB\n",
                "from hermespy.modem import SimplexLink, ElementType, FrameElement, FrameResource, FrameSymbolSection, OFDMWaveform, SpatialMultiplexing\n",
                "from hermespy.simulation import Simulation, SimulatedIdealAntenna, SimulatedUniformArray\n",
                "\n",
                "\n",
                "# Create a new Monte Carlo simulation\n",
                "simulation = Simulation(console_mode=ConsoleMode.SILENT)\n",
                "\n",
                "# Configure a simplex link between a transmitting and receiving device, interconnected by an ideal channel\n",
                "link = SimplexLink(simulation.new_device(antennas=SimulatedUniformArray(SimulatedIdealAntenna, 1e-2, [5, 1, 1])),\n",
                "                   simulation.new_device(antennas=SimulatedUniformArray(SimulatedIdealAntenna, 1e-2, [5, 1, 1])))\n",
                "\n",
                "# Configure an OFDM waveform with a frame consisting of a single symbol section\n",
                "link.waveform = OFDMWaveform(resources=[FrameResource(elements=[FrameElement(ElementType.DATA, 1024)])],\n",
                "                                       structure=[FrameSymbolSection(pattern=[0])])\n",
                "link.precoding[0] = SpatialMultiplexing()\n",
                "\n",
                "# Configure a sweep over the linking channel's gain\n",
                "simulation.new_dimension('gain', dB(0, 2, 4, 6, 8, 10),\n",
                "                         simulation.scenario.channel(link.transmitting_device, link.receiving_device),\n",
                "                         title=\"Channel Gain\")\n",
                "\n",
                "# Configure our custom power evaluator\n",
                "power_estimator = PowerEstimator(link)\n",
                "simulation.add_evaluator(power_estimator)\n",
                "\n",
                "# Run the simulation\n",
                "result = simulation.run()"
            ]
        },
        {
            "attachments": {},
            "cell_type": "markdown",
            "metadata": {},
            "source": [
                "The simulation routine automatically distributes the workload to all detected CPU cores within the system (in this case $24$) and generates *PowerArtifact* objects in parallel.\n",
                "Once the simulation is finished, a single *PowerEvaluationResult* is generated and stored within a [MonteCarloResult](../api/core.monte_carlo.rst#hermespy.core.monte_carlo.MonteCarloResult) returned by the simulation [run](../api/simulation.simulation.Simulation.rst#hermespy.simulation.simulation.Simulation.run) method.\n",
                "\n",
                "Calling the result's [plot](../api/core.monte_carlo.rst#hermespy.core.monte_carlo.MonteCarloResult.plot) method will then internally call the evaluation result's [plot](../api/core.visualize.rst#hermespy.core.visualize.Visualizable.plot), resulting in the following performance indicator visualization:"
            ]
        },
        {
            "cell_type": "code",
            "execution_count": 4,
            "metadata": {},
            "outputs": [
                {
                    "data": {
                        "image/png": "[encoded data removed]",
                        "text/plain": [
                            "<Figure size 432x288 with 1 Axes>"
                        ]
                    },
                    "metadata": {
                        "needs_background": "light"
                    },
                    "output_type": "display_data"
                }
            ],
            "source": [
                "_ = result.plot()"
            ]
        },
        {
            "attachments": {},
            "cell_type": "markdown",
            "metadata": {},
            "source": [
                "Now while this renders the average power over a number of samples within a simulation, the [Hardware Loop](../api/hardware_loop.rst) has a feature representing performance indicator information in real time during data collection.\n",
                "\n",
                "This is internally realized by calling the plot funtion of evaluations generated by evaluators, before they are being compressed to artifacts. \n",
                "We can demonstrate the output in our current simulation scenario by generating a single drop and calling the evaluator:"
            ]
        },
        {
            "cell_type": "code",
            "execution_count": 5,
            "metadata": {},
            "outputs": [
                {
                    "data": {
                        "image/png": "[encoded data removed]",
                        "text/plain": [
                            "<Figure size 432x288 with 1 Axes>"
                        ]
                    },
                    "metadata": {
                        "needs_background": "light"
                    },
                    "output_type": "display_data"
                }
            ],
            "source": [
                "_ = simulation.scenario.drop()\n",
                "\n",
                "power_estimator.evaluate().plot()\n",
                "plt.show()"
            ]
        }
    ],
    "metadata": {
        "kernelspec": {
            "display_name": "Python 3.9.13 ('hermes')",
            "language": "python",
            "name": "python3"
        },
        "language_info": {
            "codemirror_mode": {
                "name": "ipython",
                "version": 3
            },
            "file_extension": ".py",
            "mimetype": "text/x-python",
            "name": "python",
            "nbconvert_exporter": "python",
            "pygments_lexer": "ipython3",
            "version": "3.9.12"
        },
        "orig_nbformat": 4,
        "vscode": {
            "interpreter": {
                "hash": "15324ae639e283979e39f32b76ef84dde816ef5cb4e81fc04e688fd3d2128060"
            }
        }
    },
    "nbformat": 4,
    "nbformat_minor": 2
}
