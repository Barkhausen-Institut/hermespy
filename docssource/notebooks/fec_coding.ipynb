version https://git-lfs.github.com/spec/v1
oid sha256:dd11b9b37c1a3a5266d889a1052a814138af95ab62c15074398a539d01b819b8
size 58300
