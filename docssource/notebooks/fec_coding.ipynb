{
 "cells": [
  {
   "cell_type": "code",
   "execution_count": 1,
   "id": "4bcd49a4",
   "metadata": {
    "nbsphinx": "hidden"
   },
   "outputs": [],
   "source": [
    "%%capture\n",
    "# Install HermesPy and its dependencies in the current kernel\n",
    "# When running on Colabs, a restart of the runtime is required afterwards\n",
    "\n",
    "import sys\n",
    "!{sys.executable} -m pip install --quiet hermespy"
   ]
  },
  {
   "cell_type": "markdown",
   "id": "199efcaa",
   "metadata": {},
   "source": [
    "Implementing FEC codings\n",
    "=============================\n",
    "\n",
    "This Jupyter notebook will outline the step-by-step process of implementing a new coding scheme for the forward error correction in communication modems.\n",
    "The selected algorithm is a repetition encoder, since it is arguably the most basic error correction coding.\n",
    "\n",
    "As an initial step, we will import all required modules from HermesPy:"
   ]
  },
  {
   "cell_type": "code",
   "execution_count": 2,
   "id": "cee5a390",
   "metadata": {},
   "outputs": [],
   "source": [
    "import numpy as np\n",
    "from hermespy.fec import Encoder"
   ]
  },
  {
   "cell_type": "markdown",
   "id": "32929b07",
   "metadata": {},
   "source": [
    "Error correcting coding steps are represented by the abstract [Encoder](../api/fec/coding.rst#hermespy.fec.coding.Encoder) interface.\n",
    "Each coding algorithm is represented by a class inheriting from the interface,\n",
    "which requires them to implement the abstract functions and properties\n",
    "\n",
    "* [encode](../api/fec/coding.rst#hermespy.fec.coding.Encoder.encode)\n",
    "* [decode](../api/fec/coding.rst#hermespy.fec.coding.Encoder.decode)\n",
    "* [bit_block_size](../api/fec/coding.rst#hermespy.fec.coding.Encoder.bit_block_size)\n",
    "* [code_block_size](../api/fec/coding.rst#hermespy.fec.coding.Encoder.code_block_size)\n",
    "\n",
    "Let's assume our repetition coding takes blocks of $K = 4$ data bits and repeats them $3$ times.\n",
    "The resulting code block size would be $N = 3K = 12$, which results in a rate of\n",
    "\\begin{equation}\n",
    "\\mathbf{R} = \\frac{K}{N} = \\frac{1}{3}\n",
    "\\end{equation}\n",
    "for the full encoding.\n",
    "During decoding, the repetition coding decides by majority voting which bit has been transmitted.\n",
    "So, our coding implementation is"
   ]
  },
  {
   "cell_type": "code",
   "execution_count": null,
   "id": "53c0b665",
   "metadata": {},
   "outputs": [],
   "source": [
    "class RepetitionCoding(Encoder):\n",
    "    \n",
    "    @property\n",
    "    def bit_block_size(self) -> int:\n",
    "        return 4\n",
    "    \n",
    "    @property\n",
    "    def code_block_size(self) -> int:\n",
    "        return 12\n",
    "        \n",
    "    def encode(self, bits: np.ndarray) -> np.ndarray:\n",
    "        return np.tile(bits, 3)\n",
    "    \n",
    "    def decode(self, encoded_bits: np.ndarray) -> np.ndarray:\n",
    "        return (np.mean(np.reshape(encoded_bits, (3, self.bit_block_size)), axis=0, keepdims=False) > .5).astype(int)"
   ]
  },
  {
   "cell_type": "markdown",
   "id": "7c6f60ca",
   "metadata": {},
   "source": [
    "Now we can inspect our coding implementation:"
   ]
  },
  {
   "cell_type": "code",
   "execution_count": null,
   "id": "79ea6e6b",
   "metadata": {},
   "outputs": [
    {
     "name": "stdout",
     "output_type": "stream",
     "text": [
      "Our coding rate is 0.3333333333333333 with an input block size of 4 and an output block size of 12\n",
      "Let's assume we transmit the following data block: [0 1 1 1]\n",
      "After encoding the respective code block is: [0 1 1 1 0 1 1 1 0 1 1 1]\n",
      "After channel propagation the first bit has flipped: [1 1 1 1 0 1 1 1 0 1 1 1]\n",
      "But the coding can correct a single bit flip to: [0 1 1 1]\n"
     ]
    }
   ],
   "source": [
    "coding = RepetitionCoding()\n",
    "print(f\"Our coding rate is {coding.rate} with an input block size of {coding.bit_block_size} and an output block size of {coding.code_block_size}\")\n",
    "\n",
    "bits = np.random.randint(0, 2, coding.bit_block_size)\n",
    "print(f\"Let's assume we transmit the following data block: {bits}\")\n",
    "\n",
    "encoded_bits = coding.encode(bits)\n",
    "print(f\"After encoding the respective code block is: {encoded_bits}\")\n",
    "\n",
    "error_code = encoded_bits.copy()\n",
    "error_code[0] = not error_code[0]\n",
    "print(f\"After channel propagation the first bit has flipped: {error_code}\")\n",
    "\n",
    "corrected_data = coding.decode(error_code)\n",
    "print(f\"But the coding can correct a single bit flip to: {corrected_data}\")\n"
   ]
  },
  {
   "cell_type": "markdown",
   "id": "e9e4d2a7",
   "metadata": {},
   "source": [
    "We may now investigate our newly created forward error correction coding within a full Hermes simulation capaign."
   ]
  },
  {
   "cell_type": "code",
   "execution_count": null,
   "id": "2b59d719",
   "metadata": {},
   "outputs": [],
   "source": [
    "from hermespy.core import ConsoleMode, dB\n",
    "from hermespy.simulation import Simulation\n",
    "from hermespy.modem import BitErrorEvaluator, DuplexModem, RootRaisedCosineWaveform\n",
    "\n",
    "# Create a new simulation featuring a single device transmitting at 10GHz\n",
    "simulation = Simulation(console_mode=ConsoleMode.SILENT)\n",
    "device = simulation.scenario.new_device(carrier_frequency=10e9, bandwidth=1e6, oversampling_factor=2)\n",
    "\n",
    "# Configure a communication operation on the device, using our coding\n",
    "modem = DuplexModem()\n",
    "modem.waveform = RootRaisedCosineWaveform(modulation_order=4, num_preamble_symbols=0, num_data_symbols=10)\n",
    "modem.encoder_manager.add_encoder(coding)\n",
    "device.add_dsp(modem)\n",
    "\n",
    "# Run a very low-demanding simulation for demonstration purposes\n",
    "simulation.new_dimension('noise_level', dB(0, 4, 8, 16, 18, 20), device)\n",
    "simulation.add_evaluator(BitErrorEvaluator(modem, modem))\n",
    "simulation.num_samples = 1000\n",
    "\n",
    "result = simulation.run()"
   ]
  },
  {
   "cell_type": "markdown",
   "id": "cb2ce415",
   "metadata": {},
   "source": [
    "This allows us to visualize the achieved bit error rates for given linear signal to noise ratios:"
   ]
  },
  {
   "cell_type": "code",
   "execution_count": 6,
   "id": "f4a24f7e",
   "metadata": {},
   "outputs": [
    {
     "data": {
      "image/png": "[encoded data removed]",
      "text/plain": [
       "<Figure size 640x480 with 1 Axes>"
      ]
     },
     "metadata": {},
     "output_type": "display_data"
    }
   ],
   "source": [
    "_ = result.plot()"
   ]
  }
 ],
 "metadata": {
  "kernelspec": {
   "display_name": "Python 3.9.12 ('hermes')",
   "language": "python",
   "name": "python3"
  },
  "language_info": {
   "codemirror_mode": {
    "name": "ipython",
    "version": 3
   },
   "file_extension": ".py",
   "mimetype": "text/x-python",
   "name": "python",
   "nbconvert_exporter": "python",
   "pygments_lexer": "ipython3",
   "version": "3.11.8"
  },
  "vscode": {
   "interpreter": {
    "hash": "15324ae639e283979e39f32b76ef84dde816ef5cb4e81fc04e688fd3d2128060"
   }
  }
 },
 "nbformat": 4,
 "nbformat_minor": 5
}
