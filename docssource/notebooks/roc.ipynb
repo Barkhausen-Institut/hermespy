{
    "cells": [
        {
            "cell_type": "code",
            "execution_count": 1,
            "id": "4bcd49a4",
            "metadata": {
                "nbsphinx": "hidden"
            },
            "outputs": [],
            "source": [
                "%%capture\n",
                "# Install HermesPy and its dependencies in the current kernel\n",
                "# When running on Colabs, a restart of the runtime is required afterwards\n",
                "\n",
                "import sys\n",
                "!{sys.executable} -m pip install --quiet hermespy"
            ]
        },
        {
            "attachments": {},
            "cell_type": "markdown",
            "metadata": {},
            "source": [
                "Receiver Operating Characteristics\n",
                "==================================\n",
                "\n",
                "This tutorial will outline how to operate Hermes' API in order to estimate receiver operating characteristics of sensing detectors within Monte Carlo simulations and using software defined radios.\n",
                "\n",
                "Let's start by configuring a simulated scenario consisting of a single device transmitting an [FMCW](../api/radar.fmcw.rst#hermespy.radar.fmcw.FMCW) waveform at a carrier frequency of $10~\\mathrm{GHz}$.\n",
                "The transmitted chirps sweep a bandwidth of $3.072~\\mathrm{Ghz}$ during $20~\\mathrm{ms}$, with each frame consisting of $10$ identical chirps."
            ]
        },
        {
            "cell_type": "code",
            "execution_count": 2,
            "metadata": {},
            "outputs": [],
            "source": [
                "from hermespy.core import ConsoleMode\n",
                "from hermespy.simulation import Simulation\n",
                "from hermespy.radar import Radar, FMCW, ReceiverOperatingCharacteristic\n",
                "\n",
                "# Global parameters\n",
                "bandwidth = 3.072e9\n",
                "carrier_frequency = 10e9\n",
                "chirp_duration = 2e-8\n",
                "num_chirps = 10\n",
                "pulse_rep_interval = 1.1 * chirp_duration\n",
                "\n",
                "# New radar waveform\n",
                "radar = Radar()\n",
                "radar.waveform = FMCW(bandwidth=bandwidth, num_chirps=num_chirps, chirp_duration=chirp_duration, pulse_rep_interval=pulse_rep_interval)\n",
                "\n",
                "# Simulation with a single device\n",
                "simulation = Simulation(console_mode=ConsoleMode.SILENT)\n",
                "simulated_device = simulation.new_device(carrier_frequency=carrier_frequency)\n",
                "simulated_device.add_dsp(radar)"
            ]
        },
        {
            "attachments": {},
            "cell_type": "markdown",
            "metadata": {},
            "source": [
                "We can inspect the [Radar's](../api/radar.radar.Radar.rst#hermespy.radar.radar.Radar) transmitted waveform by plotting a single chirp and the full frame:"
            ]
        },
        {
            "cell_type": "code",
            "execution_count": 3,
            "metadata": {},
            "outputs": [],
            "source": [
                "import matplotlib.pyplot as plt\n",
                "\n",
                "radar.waveform.num_chirps = 1\n",
                "simulated_device.transmit().mixed_signal.plot(title='Single Radar Chirp').show()\n",
                "\n",
                "radar.waveform.num_chirps = num_chirps\n",
                "simulated_device.transmit().mixed_signal.plot(title='Full Radar Frame').show()"
            ]
        },
        {
            "attachments": {},
            "cell_type": "markdown",
            "metadata": {},
            "source": [
                "Typical hardware impairments limiting the performance of monostatic radars are isolation between transmitting and receiving RF chains and the base hardware noise.\n",
                "\n",
                "Lets assume a scattering target located at a distance $0.75~\\mathrm{m}$ and $1.25~\\mathrm{m}$ from the radar with a cross section of $1~\\mathrm{m}^2$, which is roughly the expected radar cross section of a human.\n",
                "The hardware should have an absolute noise floor between $10~\\mathrm{dB}$ and $20~\\mathrm{dB}$ and a [power leakage](../api/simulation.isolation.specific.rst#hermespy.simulation.isolation.specific.SpecificIsolation) from transmit to receive antenna between with an isolation $30~\\mathrm{dB}$ and $10~\\mathrm{dB}$.\n",
                "Additionally, we'll consider an [analog to digital conversion](../api/simulation.rf_chain.adc.rst) with $8~\\mathrm{Bit}$ quantization and [automatic gain control](../api/simulation.rf_chain.adc.AutomaticGainControl.rst#hermespy.simulation.rf_chain.analog_digital_converter.AutomaticGainControl) at the receiver.\n",
                "\n",
                "The following lines configure our system assumptions and run a simulation estimating the expected operating characteristcs:"
            ]
        },
        {
            "cell_type": "code",
            "execution_count": 4,
            "metadata": {},
            "outputs": [
                {
                    "name": "stderr",
                    "output_type": "stream",
                    "text": [
                        "invalid command name \"132904547109248process_stream_events\"\n",
                        "    while executing\n",
                        "\"132904547109248process_stream_events\"\n",
                        "    (\"after\" script)\n"
                    ]
                }
            ],
            "source": [
                "from hermespy.core import ConsoleMode, dB\n",
                "from hermespy.channel import SingleTargetRadarChannel\n",
                "from hermespy.simulation import AutomaticGainControl, N0, SpecificIsolation\n",
                "\n",
                "# Initialize a new simulation scenario\n",
                "simulation = Simulation(console_mode=ConsoleMode.SILENT)\n",
                "simulated_device = simulation.new_device(carrier_frequency=carrier_frequency)\n",
                "simulated_device.add_dsp(radar)\n",
                "\n",
                "# Configure a radar channel\n",
                "radar_channel = SingleTargetRadarChannel(target_range=(.75, 1.25), radar_cross_section=1., attenuate=False)\n",
                "simulation.scenario.set_channel(simulated_device, simulated_device, radar_channel)\n",
                "\n",
                "# Configure a leakage between transmit and receive RF chains\n",
                "simulated_device.noise_level = N0(1.0)\n",
                "simulated_device.isolation = SpecificIsolation(isolation=dB(30.))\n",
                "simulated_device.rf_chain.adc.gain = AutomaticGainControl()\n",
                "simulated_device.rf_chain.adc.num_quantization_bits = 8\n",
                "\n",
                "# Configure a simulation sweep over multiple snr and isolation candidates\n",
                "simulation.new_dimension('noise_level', dB(10., 15., 20.), simulated_device)\n",
                "simulation.new_dimension('isolation', dB(30., 10.), simulation.scenario.devices[0].isolation)\n",
                "simulation.num_drops = 1000\n",
                "\n",
                "# Evaluate the radar's operator characteristics\n",
                "roc = ReceiverOperatingCharacteristic(radar, simulated_device, simulated_device, radar_channel)\n",
                "simulation.add_evaluator(roc)\n",
                "\n",
                "# Run the simulation campaign\n",
                "result = simulation.run()\n",
                "\n",
                "# Visualize the ROC\n",
                "_ = result.plot()\n",
                "plt.show()"
            ]
        },
        {
            "attachments": {},
            "cell_type": "markdown",
            "metadata": {},
            "source": [
                "All parameter combinations perform reasonably well.\n",
                "Notably, at the most favorable parameter combination (a low noise floor of $10~\\mathrm{dB}$ and a high isolation of $30~\\mathrm{dB}$), the radar is an almost perfect detector.\n",
                "\n",
                "Receiver operating characteristics may not only be predicted by means of simulation but can also be estimated from real-world measurements of hardware testbeds operated by Hermes.\n",
                "\n",
                "Let's mock a measurement configuration with identical parameters to the Monte Carlo simulation:"
            ]
        },
        {
            "cell_type": "code",
            "execution_count": 5,
            "metadata": {},
            "outputs": [],
            "source": [
                "from hermespy.hardware_loop import HardwareLoop, PhysicalScenarioDummy\n",
                "\n",
                "\n",
                "# Set up a simulated physical scenario\n",
                "system = PhysicalScenarioDummy()\n",
                "system.noise_level = N0(dB(15))\n",
                "\n",
                "# Configure a hardware loop collect measurments from the physical scenario\n",
                "hardware_loop = HardwareLoop(system, console_mode=ConsoleMode.SILENT)\n",
                "hardware_loop.plot_information = False\n",
                "hardware_loop.num_drops = 1000\n",
                "hardware_loop.results_dir = hardware_loop.default_results_dir()\n",
                "\n",
                "# Add a new device to the simulated physical scenario\n",
                "simulated_device = system.new_device(carrier_frequency=carrier_frequency)\n",
                "simulated_device.add_dsp(radar)\n",
                "\n",
                "simulated_device.isolation = SpecificIsolation(isolation=dB(30.))\n",
                "simulated_device.rf_chain.adc.gain = AutomaticGainControl()\n",
                "simulated_device.rf_chain.adc.num_quantization_bits = 8\n",
                "\n",
                "# Configure an identical radar channel\n",
                "radar_channel = SingleTargetRadarChannel(target_range=(.75, 1.25), radar_cross_section=1., attenuate=False)\n",
                "system.set_channel(simulated_device, simulated_device, radar_channel)"
            ]
        },
        {
            "attachments": {},
            "cell_type": "markdown",
            "metadata": {},
            "source": [
                "Now, we may run two measurement campaigns, collecting measurment data with the radar target present and the radar target missing from the signal impinging onto the device after channel propagation:"
            ]
        },
        {
            "cell_type": "code",
            "execution_count": 6,
            "metadata": {},
            "outputs": [],
            "source": [
                "# First measurement campaign with the target in front of the device\n",
                "radar_channel.target_exists = True\n",
                "hardware_loop.run(overwrite=False, campaign='h1_measurements')\n",
                "\n",
                "# Second measurement campaign with the target removed\n",
                "radar_channel.target_exists = False\n",
                "hardware_loop.run(overwrite=False, campaign='h0_measurements')"
            ]
        },
        {
            "attachments": {},
            "cell_type": "markdown",
            "metadata": {},
            "source": [
                "The measurement data and all device parameterizations will be saved to a binary file on the user's drive.\n",
                "The data can be inspected offline, and information such as the operating charactersitics may be computed by a single command:"
            ]
        },
        {
            "cell_type": "code",
            "execution_count": null,
            "metadata": {},
            "outputs": [],
            "source": [
                "from os import path\n",
                "\n",
                "\n",
                "# Compute the ROC from a measurment dataset\n",
                "roc = ReceiverOperatingCharacteristic.FromFile(path.join(hardware_loop.results_dir, 'drops.h5'))\n",
                "\n",
                "# Visualize the result\n",
                "roc.visualize()\n",
                "plt.show()"
            ]
        }
    ],
    "metadata": {
        "kernelspec": {
            "display_name": "hermes-311",
            "language": "python",
            "name": "python3"
        },
        "language_info": {
            "codemirror_mode": {
                "name": "ipython",
                "version": 3
            },
            "file_extension": ".py",
            "mimetype": "text/x-python",
            "name": "python",
            "nbconvert_exporter": "python",
            "pygments_lexer": "ipython3",
            "version": "3.11.9"
        },
        "orig_nbformat": 4
    },
    "nbformat": 4,
    "nbformat_minor": 2
}
