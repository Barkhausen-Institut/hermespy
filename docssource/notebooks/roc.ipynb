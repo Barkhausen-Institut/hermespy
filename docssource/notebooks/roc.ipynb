version https://git-lfs.github.com/spec/v1
oid sha256:a6fc0ad38c8f49bce86b34de3f98ed05e9f8ed4fd13b293796d14482f47b3634
size 288532
