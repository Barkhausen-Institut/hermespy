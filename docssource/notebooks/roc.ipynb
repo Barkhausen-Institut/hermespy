version https://git-lfs.github.com/spec/v1
oid sha256:8f5bf0bf5958e0e5f4707daa01723c32de58342f6283769c7f9847fe817adf78
size 303239
