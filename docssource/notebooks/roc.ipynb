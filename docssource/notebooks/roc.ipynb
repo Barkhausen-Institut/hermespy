version https://git-lfs.github.com/spec/v1
oid sha256:fe0c83279cb63c1c1b2398966ae40050b19f3d77e973c2822e665541a8b70ef7
size 1618630
