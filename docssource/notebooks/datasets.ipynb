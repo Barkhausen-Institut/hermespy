version https://git-lfs.github.com/spec/v1
oid sha256:f403ad523862276cba1901ca1eb6c4ada1d2f0c4601e2f22eb1de86b0e8d6b7c
size 405803
