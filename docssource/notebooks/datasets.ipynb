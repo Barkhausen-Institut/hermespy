version https://git-lfs.github.com/spec/v1
oid sha256:f912c9c29306b9cc140c1c526fdc38cc9f32c9a1036717934dbf26c80608aeda
size 85434
