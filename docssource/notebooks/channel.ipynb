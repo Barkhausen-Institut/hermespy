{
    "cells": [
        {
            "cell_type": "code",
            "execution_count": 1,
            "id": "4bcd49a4",
            "metadata": {
                "nbsphinx": "hidden"
            },
            "outputs": [],
            "source": [
                "# Install HermesPy and its dependencies in the current kernel\n",
                "# When running on Colabs, a restart of the runtime is required afterwards\n",
                "\n",
                "import sys\n",
                "!{sys.executable} -m pip install --quiet hermespy"
            ]
        },
        {
            "attachments": {},
            "cell_type": "markdown",
            "metadata": {},
            "source": [
                "Implementing Channels\n",
                "=====================\n",
                "\n",
                "Wireless propagation channels are a core concept in the physical layer modeling of communication and sensing systems.\n",
                "In essence, they describe the behaviour of electromagnetic waves during their propagation between devices capable of transmitting electromagnetic radiation, receiving electromagnetic radation, or both.\n",
                "Within Hermes' API, channels are addressed by the [Channel Module](../api/channel.rst), with each implemented channel model inheriting from a common [Channel](../api/channel.channel.Channel.rst) base class.\n",
                "\n",
                "Adding a new channel model to the set of provided implementations is rather straightfoward.\n",
                "On the most fundamental level, each channel model class is expected to provide only a [realize](../api/channel.channel.Channel.rst#hermespy.channel.channel.Channel.realization) method generating a [realization](../api/channel.channel.ChannelRealization.rst#hermespy.channel.channel.ChannelRealization) of the channel's random variables and impulse response.\n",
                "To demonstrate the API workflow, we will implement a basic channel only introducing a random phase shift to the propagated waveform, no time of flight delays or multiple antenna scenarios are considered:"
            ]
        },
        {
            "cell_type": "code",
            "execution_count": 2,
            "metadata": {},
            "outputs": [],
            "source": [
                "from __future__ import annotations\n",
                "from typing import Any, Mapping, Type\n",
                "\n",
                "import numpy as np\n",
                "from h5py import Group\n",
                "\n",
                "from hermespy.core import ChannelStateInformation, ChannelStateFormat, Device, Signal\n",
                "from hermespy.channel import Channel, ChannelRealization, InterpolationMode\n",
                "\n",
                "\n",
                "class PhaseShiftChannelRealization(ChannelRealization):\n",
                "\n",
                "    def __init__(\n",
                "        self,\n",
                "        alpha_device: Device,\n",
                "        beta_device: Device,\n",
                "        gain: float,\n",
                "        phase_shift: float,\n",
                "    ) -> None:\n",
                "\n",
                "        ChannelRealization.__init__(self, alpha_device, beta_device, gain)\n",
                "        self.__phase_shift = phase_shift\n",
                "\n",
                "    def _propagate(\n",
                "        self,\n",
                "        signal: Signal,\n",
                "        transmitter: Device,\n",
                "        receiver: Device,\n",
                "        interpolation: InterpolationMode,\n",
                "     ) -> Signal:\n",
                "\n",
                "        shifted_samples = signal[:, :] * np.exp(1j * self.__phase_shift)\n",
                "        return signal.from_ndarray(shifted_samples)\n",
                "\n",
                "    def state(\n",
                "        self,\n",
                "        transmitter: Device,\n",
                "        receiver: Device,\n",
                "        delay: float,\n",
                "        sampling_rate: float,\n",
                "        num_samples: int,\n",
                "        max_num_taps: int,\n",
                "    ) -> ChannelStateInformation:\n",
                "        \n",
                "        state = np.sqrt(self.gain) * np.exp(1j * self.__phase_shift) * np.ones((receiver.antennas.num_receive_antennas, transmitter.antennas.num_transmit_antennas, num_samples, 1), dtype=complex)\n",
                "        return ChannelStateInformation(ChannelStateFormat.IMPULSE_RESPONSE, state)\n",
                "\n",
                "    def to_HDF(self, group: Group) -> None:\n",
                "        \n",
                "        ChannelRealization.to_HDF(self, group)\n",
                "        group.attrs[\"phase_shift\"] = self.__phase_shift\n",
                "        \n",
                "    @classmethod\n",
                "    def _parameters_from_HDF(cls: Type[PhaseShiftChannelRealization], group: Group) -> Mapping[str, Any]:\n",
                "        \n",
                "        parameters = ChannelRealization._parameters_from_HDF(group)\n",
                "        parameters[\"phase_shift\"] = group.attrs[\"phase_shift\"]\n",
                "\n",
                "\n",
                "class PhaseShiftChannel(Channel[PhaseShiftChannelRealization]):\n",
                "    \n",
                "    def _realize(self) -> PhaseShiftChannelRealization:\n",
                "            \n",
                "        phase_shift = np.exp(2j * self._rng.normal(0, np.pi))        \n",
                "        return PhaseShiftChannelRealization(self.alpha_device, self.beta_device, self.gain, phase_shift)\n",
                "    \n",
                "    def recall_realization(self, group: Group) -> PhaseShiftChannelRealization:\n",
                "        \n",
                "        return PhaseShiftChannelRealization.From_HDF(group, self.alpha_device, self.beta_device)"
            ]
        },
        {
            "attachments": {},
            "cell_type": "markdown",
            "metadata": {},
            "source": [
                "During simulation runtime, the impulse response routine will be called for each channel propagation over a single link configured to the newly created *PhaseShiftChannel*.\n",
                "It is expected to return a four-dimensional numpy tensor modeling a channel impulse sampled *num_samples* times at frequency *sampling_rate*.\n",
                "The first tensor dimension denotes the number of time-domain impulse response samples, the second and third dimension the number of transmit and receive antennas, and the fourth dimension the impulse response of each sample instance, respectively.\n",
                "\n",
                "We can now plug the newly generated channel model into a simulation scenario evaluating an [OFDM waveform](../api/modem.waveforms.orthogonal.ofdm.OFDMWaveform.rst) with access to ideal channel state information, equalizing the channel by [zero forcing](../api/modem.waveform.ZeroForcingChannelEqualization.rst):"
            ]
        },
        {
            "cell_type": "code",
            "execution_count": 3,
            "metadata": {},
            "outputs": [
                {
                    "data": {
                        "image/png": "[encoded data removed]",
                        "text/plain": [
                            "<Figure size 432x288 with 1 Axes>"
                        ]
                    },
                    "metadata": {
                        "needs_background": "light"
                    },
                    "output_type": "display_data"
                }
            ],
            "source": [
                "import matplotlib.pyplot as plt\n",
                "\n",
                "from hermespy.core import dB, ConsoleMode\n",
                "from hermespy.simulation import Simulation, OFDMIdealChannelEstimation\n",
                "from hermespy.modem import BitErrorEvaluator, DuplexModem, ElementType, GridElement, GridResource, SymbolSection, OFDMWaveform, ZeroForcingChannelEqualization\n",
                "\n",
                "\n",
                "# Create a new Monte Carlo simulation\n",
                "simulation = Simulation(console_mode=ConsoleMode.SILENT)\n",
                "\n",
                "# Add a single device, operated by a communication modem\n",
                "operator = DuplexModem()\n",
                "operator.device = simulation.new_device()\n",
                "operator.reference = operator.device\n",
                "\n",
                "# Configure an OFDM waveform with a frame consisting of a single symbol section\n",
                "operator.waveform = OFDMWaveform(grid_resources=[GridResource(elements=[GridElement(ElementType.DATA, 1024)])],\n",
                "                                 grid_structure=[SymbolSection(pattern=[0])])\n",
                "\n",
                "# Add channel estimation and equalization routines\n",
                "operator.waveform.channel_estimation = OFDMIdealChannelEstimation(operator.device, operator.device)\n",
                "operator.waveform.channel_equalization = ZeroForcingChannelEqualization()\n",
                "\n",
                "# Configure our newly implemented channel model\n",
                "simulation.scenario.set_channel(operator.device, operator.device, PhaseShiftChannel())\n",
                "\n",
                "# Configure a parameter sweep over the receiver SNR, effectively simulating an AWGN channel\n",
                "simulation.new_dimension('noise_level', dB(0, 2, 4, 8, 16, 24), operator.device)\n",
                "\n",
                "# Evaluate the BER\n",
                "simulation.add_evaluator(BitErrorEvaluator(operator, operator))\n",
                "\n",
                "# Configure the number of Monte Carlo samples per SNR point\n",
                "simulation.num_samples = 1000\n",
                "\n",
                "# Run the simulation and plot the results\n",
                "result = simulation.run()\n",
                "result.plot()\n",
                "plt.show()"
            ]
        },
        {
            "attachments": {},
            "cell_type": "markdown",
            "metadata": {},
            "source": [
                "We can highlight the channel effect by disabling the zero-forcing channel equalization routine for the configured OFDM waveform.\n",
                "\n",
                "In this case, the communication bit error rate should roughly approximate $\\tfrac{1}{2}$, indicating that no information is exchanged and the bits are esentially random at the receiver."
            ]
        },
        {
            "cell_type": "code",
            "execution_count": 4,
            "metadata": {},
            "outputs": [
                {
                    "data": {
                        "image/png": "[encoded data removed]",
                        "text/plain": [
                            "<Figure size 432x288 with 1 Axes>"
                        ]
                    },
                    "metadata": {
                        "needs_background": "light"
                    },
                    "output_type": "display_data"
                }
            ],
            "source": [
                "from hermespy.modem import ChannelEqualization\n",
                "\n",
                "# Disable channel equalization by replacing the ZF routine with the default stub\n",
                "operator.waveform.channel_equalization = ChannelEqualization()\n",
                "\n",
                "# Run the simulation and plot the results\n",
                "result = simulation.run()\n",
                "result.plot()\n",
                "plt.show()"
            ]
        }
    ],
    "metadata": {
        "kernelspec": {
            "display_name": "Python 3.9.13 ('hermes')",
            "language": "python",
            "name": "python3"
        },
        "language_info": {
            "codemirror_mode": {
                "name": "ipython",
                "version": 3
            },
            "file_extension": ".py",
            "mimetype": "text/x-python",
            "name": "python",
            "nbconvert_exporter": "python",
            "pygments_lexer": "ipython3",
            "version": "3.11.1"
        },
        "orig_nbformat": 4,
        "vscode": {
            "interpreter": {
                "hash": "15324ae639e283979e39f32b76ef84dde816ef5cb4e81fc04e688fd3d2128060"
            }
        }
    },
    "nbformat": 4,
    "nbformat_minor": 2
}
